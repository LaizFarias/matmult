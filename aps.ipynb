{
 "cells": [
  {
   "attachments": {},
   "cell_type": "markdown",
   "metadata": {},
   "source": [
    "#                                                        APS - OTIMIZAÇÃO PELO VETOR GRADIENTE"
   ]
  },
  {
   "attachments": {},
   "cell_type": "markdown",
   "metadata": {},
   "source": [
    "Professor: Thiago Tolosa\n",
    "\n",
    "Equipe: \n",
    "Ana Laiz Farias,\n",
    "Alexandre Santarossa,\n",
    "Gustavo Mendes"
   ]
  },
  {
   "attachments": {},
   "cell_type": "markdown",
   "metadata": {},
   "source": [
    "Nossas funções são:\n",
    "$$ f(x,y)=3x^2+3xy+2y^2+x-y $$ \n",
    "$$ g(x,y)=√(x^2+y^2+2)+2x^2 e^(-y^2 )+(x-2)^2 $$ \n",
    "$$ h(x,y)=4e^(-x^2-y^2 )+3e^(-x^2-y^2+4x+6y-13)-x^2/5-y^2/9+2 $$ \n"
   ]
  },
  {
   "attachments": {},
   "cell_type": "markdown",
   "metadata": {},
   "source": []
  },
  {
   "cell_type": "code",
   "execution_count": null,
   "metadata": {},
   "outputs": [],
   "source": []
  },
  {
   "cell_type": "code",
   "execution_count": null,
   "metadata": {},
   "outputs": [],
   "source": []
  },
  {
   "attachments": {},
   "cell_type": "markdown",
   "metadata": {},
   "source": [
    "2ª Etapa (20%): Utilize o seu código para determinar os pontos de mínimo da função g, cuja lei g(x,y) será atribuída a seu grupo. A função g possui dois pontos de mínimo.\n",
    "No relatório, deverá aparecer \n",
    "• os dois pontos de mínimo obtidos com seu código; \n",
    "• o que teve que ser modificado no programa para obter o segundo ponto de mínimo; \n",
    "• o comportamento do processo de convergência para diferentes valores do passo. \n"
   ]
  },
  {
   "attachments": {},
   "cell_type": "markdown",
   "metadata": {},
   "source": []
  },
  {
   "cell_type": "code",
   "execution_count": 2,
   "metadata": {},
   "outputs": [
    {
     "name": "stdout",
     "output_type": "stream",
     "text": [
      "Primeiro ponto mínimo: (1.60476, -1.83533) e o numero de iteções pra chegar no mínimo foi de 84\n",
      "Segundo ponto mínimo: (1.60477, 1.83534) e o numero de iteções pra chegar no mínimo foi de 74\n",
      "Primeiro ponto mínimo para alpha = 0.15: (1.60477, 1.83534) e o numero de iteções pra chegar no mínimo foi de 48\n",
      "Primeiro ponto mínimo para alpha = 0.2: (1.60477, 1.83534) e o numero de iteções pra chegar no mínimo foi de 34\n",
      "Primeiro ponto mínimo para alpha = 0.3: (1.60477, 1.83533) e o numero de iteções pra chegar no mínimo foi de 21\n",
      "Primeiro ponto mínimo para alpha = 0.5: (1.60477, 1.83533) e o numero de iteções pra chegar no mínimo foi de 22\n",
      "Segundo ponto mínimo para alpha = 0.15: (1.60476, -1.83533) e o numero de iteções pra chegar no mínimo foi de 54\n",
      "Segundo ponto mínimo para alpha = 0.2: (1.60476, -1.83533) e o numero de iteções pra chegar no mínimo foi de 38\n",
      "Segundo ponto mínimo para alpha = 0.3: (1.60476, -1.83533) e o numero de iteções pra chegar no mínimo foi de 22\n",
      "Segundo ponto mínimo para alpha = 0.5: (1.60477, -1.83533) e o numero de iteções pra chegar no mínimo foi de 23\n"
     ]
    }
   ],
   "source": [
    "import numpy as np\n",
    "import math\n",
    "def g(x,y):\n",
    "    g = math.sqrt(x**2+y**2+2)+2*(x**2)*math.exp(-y**2)+(x-2)**2\n",
    "    return g\n",
    "def gradiente_de_g(x, y):\n",
    "    df_dx = (4*x*math.exp(-y**2) + x*((x**2+y**2+2)**(-0.5)) + 2*(x-2))\n",
    "    df_dy = (-4*(x**2)*y*math.exp(-y**2) + y*((x**2 + y**2 + 2)**(-0.5)))\n",
    "    return np.array([df_dx, df_dy])\n",
    "\n",
    "def grad_descend(x0, y0, alpha):\n",
    "    x, y = x0, y0\n",
    "    #conta o numero de iterações para chegar no mínimo\n",
    "    cont = 0\n",
    "    while True:\n",
    "        gradiente = gradiente_de_g(x, y)\n",
    "        if np.linalg.norm(gradiente) <= 1e-5:\n",
    "            break\n",
    "        x -= alpha*gradiente[0]\n",
    "        y -= alpha*gradiente[1]\n",
    "        cont += 1\n",
    "    return (x, y),cont\n",
    "\n",
    "# primeiro ponto mínimo de g\n",
    "x1 = -2\n",
    "y1 = -2\n",
    "\n",
    "ponto1 , cont1 = grad_descend(x1, y1,0.1)\n",
    "\n",
    "print(\"Primeiro ponto mínimo: ({:.5f}, {:.5f}) e o numero de iterações pra chegar no mínimo foi de {}\".format(ponto1[0],ponto1[1],cont1))\n",
    "\n",
    "# Procurando o segundo ponto mínimo da função g\n",
    "x2 = 2\n",
    "y2 = 2\n",
    "\n",
    "ponto2 , cont2 = grad_descend(x2, y2,0.1)\n",
    "\n",
    "print(\"Segundo ponto mínimo: ({:.5f}, {:.5f}) e o numero de iterações pra chegar no mínimo foi de {}\".format(ponto2[0],ponto2[1],cont2))\n",
    "\n",
    "# para diferentes passos: \n",
    "passo_values = [0.15, 0.2, 0.3, 0.5]\n",
    "for i in range(len(passo_values)):\n",
    "    x1, y1 = 2, 2\n",
    "    ponto1 , cont1 = grad_descend(x1, y1,passo_values[i])\n",
    "\n",
    "    print(\"Primeiro ponto mínimo para alpha = {}: ({:.5f}, {:.5f}) e o numero de iterações pra chegar no mínimo foi de {}\".format(passo_values[i],ponto1[0],ponto1[1],cont1))\n",
    "\n",
    "\n",
    "for i in range(len(passo_values)):\n",
    "    x2, y2 = -2, -2\n",
    "    ponto2 , cont2 = grad_descend(x2, y2,passo_values[i])\n",
    "\n",
    "    print(\"Segundo ponto mínimo para alpha = {}: ({:.5f}, {:.5f}) e o numero de iterações pra chegar no mínimo foi de {}\".format(passo_values[i],ponto2[0],ponto2[1],cont2))\n",
    "\n"
   ]
  },
  {
   "cell_type": "code",
   "execution_count": null,
   "metadata": {},
   "outputs": [],
   "source": []
  },
  {
   "cell_type": "code",
   "execution_count": null,
   "metadata": {},
   "outputs": [],
   "source": []
  },
  {
   "cell_type": "markdown",
   "metadata": {},
   "source": []
  },
  {
   "cell_type": "code",
   "execution_count": 3,
   "metadata": {},
   "outputs": [
    {
     "name": "stdout",
     "output_type": "stream",
     "text": [
      "Primeiro ponto máximo: (0.00000, 0.00000) e o numero de iteções pra chegar no mínimo foi de 27\n",
      "Segundo ponto máximo: (1.87159, 2.88983) e o numero de iteções pra chegar no mínimo foi de 18\n",
      "Primeiro ponto máximo para alpha = 0.15: (1.87159, 2.88983) e o numero de iteções pra chegar no mínimo foi de 9\n",
      "Primeiro ponto máximo para alpha = 0.2: (1.87159, 2.88983) e o numero de iteções pra chegar no mínimo foi de 9\n",
      "Primeiro ponto máximo para alpha = 0.3: (1.87159, 2.88983) e o numero de iteções pra chegar no mínimo foi de 65\n"
     ]
    }
   ],
   "source": [
    "import numpy as np\n",
    "import math\n",
    "\n",
    "def h(x,y):\n",
    "    h = 4*math.exp(-x**2-y**2 )+3*math.exp(-x**2-y**2+4*x+6*y-13)-((x**2)/5)-((y**2)/9) + 2\n",
    "    return h\n",
    "def gradiente_de_h(x, y):\n",
    "    df_dx = (-6*(x-2)*(math.exp(-x**2 + 4*x - y**2 + 6*y - 13)) - (8*x)*(math.exp(-x**2 - y**2)) - ((2*x)/5))\n",
    "    df_dy = (-6*(y-3)*(math.exp(-x**2 + 4*x - y**2 + 6*y - 13)) - (8*y)*(math.exp(-x**2 - y**2)) - ((2*y)/9))\n",
    "    return np.array([df_dx, df_dy])\n",
    "\n",
    "def grad_descend(x0, y0, alpha):\n",
    "    x, y = x0, y0\n",
    "    #conta o numero de iterações para chegar no mínimo\n",
    "    cont = 0\n",
    "    while True:\n",
    "        gradiente = gradiente_de_h(x, y)\n",
    "        if np.linalg.norm(gradiente) <= 1e-5:\n",
    "            break\n",
    "        x += alpha*gradiente[0]\n",
    "        y += alpha*gradiente[1]\n",
    "        cont += 1\n",
    "    return (x, y),cont\n",
    "\n",
    "# primeiro ponto mínimo de f\n",
    "x1 = -2\n",
    "y1 = -2\n",
    "\n",
    "ponto1 , cont1 = grad_descend(x1, y1,0.1)\n",
    "\n",
    "print(\"Primeiro ponto máximo: ({:.5f}, {:.5f}) e o numero de iteções pra chegar no mínimo foi de {}\".format(ponto1[0],ponto1[1],cont1))\n",
    "\n",
    "# Procurando o segundo ponto mínimo da função f\n",
    "x2 = 2\n",
    "y2 = 2\n",
    "\n",
    "ponto2 , cont2 = grad_descend(x2, y2,0.1)\n",
    "\n",
    "print(\"Segundo ponto máximo: ({:.5f}, {:.5f}) e o numero de iteções pra chegar no mínimo foi de {}\".format(ponto2[0],ponto2[1],cont2))\n",
    "\n",
    "# para diferentes passos: \n",
    "passo_values = [0.15, 0.2, 0.3, 0.5]\n",
    "for i in range(len(passo_values)):\n",
    "    x1, y1 = 2, 2\n",
    "    ponto1 , cont1 = grad_descend(x1, y1,passo_values[i])\n",
    "\n",
    "    print(\"Primeiro ponto máximo para alpha = {}: ({:.5f}, {:.5f}) e o numero de iteções pra chegar no mínimo foi de {}\".format(passo_values[i],ponto1[0],ponto1[1],cont1))\n",
    "\n",
    "\n",
    "for i in range(len(passo_values)):\n",
    "    x2, y2 = -2, -2\n",
    "    ponto2 , cont2 = grad_descend(x2, y2,passo_values[i])\n",
    "\n",
    "    print(\"Segundo ponto máximo para alpha = {}: ({:.5f}, {:.5f}) e o numero de iteções pra chegar no mínimo foi de {}\".format(passo_values[i],ponto2[0],ponto2[1],cont2))\n",
    "\n",
    "\n"
   ]
  },
  {
   "cell_type": "code",
   "execution_count": null,
   "metadata": {},
   "outputs": [],
   "source": []
  }
 ],
 "metadata": {
  "kernelspec": {
   "display_name": "base",
   "language": "python",
   "name": "python3"
  },
  "language_info": {
   "codemirror_mode": {
    "name": "ipython",
    "version": 3
   },
   "file_extension": ".py",
   "mimetype": "text/x-python",
   "name": "python",
   "nbconvert_exporter": "python",
   "pygments_lexer": "ipython3",
   "version": "3.9.7"
  },
  "orig_nbformat": 4
 },
 "nbformat": 4,
 "nbformat_minor": 2
}
