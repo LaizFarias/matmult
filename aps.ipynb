{
 "cells": [
  {
   "attachments": {},
   "cell_type": "markdown",
   "metadata": {},
   "source": [
    "#                                                        APS - OTIMIZAÇÃO PELO VETOR GRADIENTE"
   ]
  },
  {
   "attachments": {},
   "cell_type": "markdown",
   "metadata": {},
   "source": [
    "Professor: Thiago Tolosa\n",
    "\n",
    "Equipe: \n",
    "Ana Laiz Farias,\n",
    "Alexandre Santarossa,\n",
    "Gustavo Mendes"
   ]
  },
  {
   "attachments": {},
   "cell_type": "markdown",
   "metadata": {},
   "source": [
    "Nossas funções são:\n",
    "$$ f(x,y)=3x^2+3xy+2y^2+x-y $$ \n",
    "$$ g(x,y)=√(x^2+y^2+2)+2x^2 e^(-y^2 )+(x-2)^2 $$ \n",
    "$$ h(x,y)=4e^(-x^2-y^2 )+3e^(-x^2-y^2+4x+6y-13)-x^2/5-y^2/9+2 $$ \n"
   ]
  },
  {
   "attachments": {},
   "cell_type": "markdown",
   "metadata": {},
   "source": [
    "1ª Etapa (35%): Considere a função f cuja lei f(x,y) será atribuída a seu grupo."
   ]
  },
  {
   "attachments": {},
   "cell_type": "markdown",
   "metadata": {},
   "source": [
    "a) Construa o gráfico de f no GeoGebra e observe que f possui um único ponto de mínimo e não possui pontos de máximo.\n"
   ]
  },
  {
   "attachments": {},
   "cell_type": "markdown",
   "metadata": {},
   "source": [
    "<img src=\"img/f1.png\">"
   ]
  },
  {
   "attachments": {},
   "cell_type": "markdown",
   "metadata": {},
   "source": [
    "Observando o GeoGebra, notamos que a função é côncava para cima, significando a presença de apenas um ponto de mínimo e nenhum ponto de máximo"
   ]
  },
  {
   "attachments": {},
   "cell_type": "markdown",
   "metadata": {},
   "source": [
    "b) Determine o vetor gradiente de f em um ponto genérico (x,y). "
   ]
  },
  {
   "attachments": {},
   "cell_type": "markdown",
   "metadata": {},
   "source": [
    "Para determinar o vetor gradiente da nossa função, utilizamos a seguinte fórmula: <p>\n",
    "∇f(x,y) =( ∂f/∂x,∂f/∂y )<p>\n",
    "Calculando as derivadas parciais, chegamos em:<p>\n",
    "∂f/∂x=6x+3y+1 <p>\n",
    "∂f/∂y=3x+4y-1 <p>\n",
    "Portanto, o nosso vetor gradiente de f em um ponto genérico (x,y) é igual a:<p>\n",
    "∇f(x,y)=(6x+3y+1 ,3x+4y-1)\n",
    "\n"
   ]
  },
  {
   "attachments": {},
   "cell_type": "markdown",
   "metadata": {},
   "source": [
    "c) Usando as ideias desenvolvidas na página anterior, elabore um código que permita determinar o ponto de mínimo da função f. Utilize um passo fixo α = 0,1 e a estimativa inicial (x₀,y₀) = (0,0). A precisão do cálculo deverá ser de 10⁻⁵. "
   ]
  },
  {
   "attachments": {},
   "cell_type": "markdown",
   "metadata": {},
   "source": [
    "Usando 0,1 como passo fixo e precisão de 5 casas decimais, foi desenvolvido o seguinte código, onde é definida a função e o vetor gradiente, e após isso, entramos em um loop para calcularmos a partir do x e y iniciais (x0 e y0) os próximos valores (x1 e y2), até satisfazer a precisão, no código, cada passo está detalhado melhor com um comentário:"
   ]
  },
  {
   "cell_type": "code",
   "execution_count": 12,
   "metadata": {},
   "outputs": [
    {
     "name": "stdout",
     "output_type": "stream",
     "text": [
      "Ponto de mínimo: (-0.46389452400196896, 0.5961538575053097)\n"
     ]
    }
   ],
   "source": [
    "# Definindo nossa função\n",
    "def f(x, y):\n",
    "    return 3*x**2 + 3*x*y + 2*y**2 + x - y\n",
    "\n",
    "# Definindo nosso vetor gradiente\n",
    "def gradiente(x, y):\n",
    "    return 6*x + 3*y + 1, 3*x + 4*y - 1\n",
    "\n",
    "# Calculando o ponto de mínimo da nossa função\n",
    "def ponto_minimo(passo, x0, y0, precisao):\n",
    "\n",
    "    # Valores iniciais\n",
    "    x = x0\n",
    "    y = y0\n",
    "\n",
    "    while True:\n",
    "\n",
    "        # Definindo as componentes do valor gradiente\n",
    "        grad_x, grad_y = gradiente(x, y)\n",
    "\n",
    "        # Fórmula dada no enunciado\n",
    "        x1 = x - passo * grad_x\n",
    "        y1 = y - passo * grad_y\n",
    "\n",
    "        # SE a o valor da função no ponto atual menos o ponto anterior for menor que a precisão definida, encontramos o nosso ponto de mínimo\n",
    "        if abs(f(x1, y1) - f(x, y)) < precisao:\n",
    "            break\n",
    "\n",
    "        # SENÃO, atualizamos os valores de x e y para os valores calculados acima\n",
    "        x = x1\n",
    "        y = y1\n",
    "\n",
    "    return x, y\n",
    "\n",
    "ponto_minimo = ponto_minimo(0.1, 0, 0, 1e-5)\n",
    "print(\"Ponto de mínimo:\", ponto_minimo)"
   ]
  },
  {
   "attachments": {},
   "cell_type": "markdown",
   "metadata": {},
   "source": [
    "Assim, foi encontrado o ponto mínimo (-0.46389452400196896, 0.5961538575053097), substituindo na nossa função, encontramos o valor de -0.5333126795514063. Conferindo o resultado no SymboLab:<p>\n",
    "<img src=\"img/symbo1.png\">"
   ]
  },
  {
   "attachments": {},
   "cell_type": "markdown",
   "metadata": {},
   "source": [
    "Sendo x = -0.46666666666  e y = 0.6 <p>\n",
    "Ou seja, nossos valores, estão bem próximos do valor do SymboLab, que provavelmente estão arredondados.\n"
   ]
  },
  {
   "attachments": {},
   "cell_type": "markdown",
   "metadata": {},
   "source": [
    "d) Repita o procedimento para os seguintes valores do passo: α = 0,15, α = 0,2, α = 0,3 e α = 0,5. "
   ]
  },
  {
   "cell_type": "code",
   "execution_count": 19,
   "metadata": {},
   "outputs": [
    {
     "name": "stdout",
     "output_type": "stream",
     "text": [
      "Ponto de mínimo com passo 0.15: (-0.4641161580836166, 0.5964613583695217)\n",
      "Ponto de mínimo com passo 0.2: (-0.4647551999999999, 0.5975424)\n"
     ]
    }
   ],
   "source": [
    "# Definindo nossa função\n",
    "def f(x, y):\n",
    "    return 3*x**2 + 3*x*y + 2*y**2 + x - y\n",
    "\n",
    "# Definindo nosso vetor gradiente\n",
    "def gradiente(x, y):\n",
    "    return 6*x + 3*y + 1, 3*x + 4*y - 1\n",
    "\n",
    "# Calculando o ponto de mínimo da nossa função\n",
    "def ponto_minimo(passo, x0, y0, precisao):\n",
    "\n",
    "    # Valores iniciais\n",
    "    x = x0\n",
    "    y = y0\n",
    "\n",
    "    while True:\n",
    "\n",
    "        # Definindo as componentes do valor gradiente\n",
    "        grad_x, grad_y = gradiente(x, y)\n",
    "\n",
    "        # Fórmula dada no enunciado\n",
    "        x1 = x - passo * grad_x\n",
    "        y1 = y - passo * grad_y\n",
    "\n",
    "        # SE a o valor da função no ponto atual menos o ponto anterior for menor que a precisão definida, encontramos o nosso ponto de mínimo\n",
    "        if abs(f(x1, y1) - f(x, y)) < precisao:\n",
    "            break\n",
    "\n",
    "        # SENÃO, atualizamos os valores de x e y para os valores calculados acima\n",
    "        x = x1\n",
    "        y = y1\n",
    "\n",
    "    return x, y\n",
    "\n",
    "ponto_minimo_015 = ponto_minimo(0.15, 0, 0, 1e-5)\n",
    "print(\"Ponto de mínimo com passo 0.15:\", ponto_minimo_015)\n",
    "ponto_minimo_02 = ponto_minimo(0.2, 0, 0, 1e-5)\n",
    "print(\"Ponto de mínimo com passo 0.2:\", ponto_minimo_02)"
   ]
  },
  {
   "attachments": {},
   "cell_type": "markdown",
   "metadata": {},
   "source": [
    "Para os valores de passo de 0,15 e 0,2, conseguimos utilizar o mesmo código do item c), porém, ao partimos para os valores de 0,3 e 0,5 nos deparamos com um erro Overflow no código, significando que os valores estavam ficando muito grandes para serem processados pelo computador. Deste modo, o único método foi limitar o código para repetir a conta apenas 200 vezes, afetando a precisão do resultado, mas ainda assim, conseguimos encontrar o ponto mínimo, porém, com uma precisão bem menor."
   ]
  },
  {
   "cell_type": "code",
   "execution_count": 24,
   "metadata": {},
   "outputs": [
    {
     "name": "stdout",
     "output_type": "stream",
     "text": [
      "Valor da função no ponto de mínimo com passo 0.3 : -0.49995\n",
      "Ponto de mínimo com passo 0.3: (-0.495, 0.495)\n",
      "Valor da função no ponto de mínimo com passo 0.5 : -0.5\n",
      "Ponto de mínimo com passo 0.5: (-0.5, 0.5)\n"
     ]
    }
   ],
   "source": [
    "# Definindo nossa função\n",
    "def f(x, y):\n",
    "    return 3*x**2 + 3*x*y + 2*y**2 + x - y\n",
    "\n",
    "# Definindo nosso vetor gradiente\n",
    "def gradiente(x, y):\n",
    "    return 6*x + 3*y + 1, 3*x + 4*y - 1\n",
    "\n",
    "# Calculando o ponto de mínimo da nossa função\n",
    "def ponto_minimo(passo, x0, y0, precisao):\n",
    "\n",
    "    # Valores iniciais\n",
    "    x = x0\n",
    "    y = y0\n",
    "    contador = 0\n",
    "    menorX = [0]\n",
    "    menorY = [0]\n",
    "    while True:\n",
    "\n",
    "        # Definindo as componentes do valor gradiente\n",
    "        grad_x, grad_y = gradiente(x, y)\n",
    "\n",
    "        # Fórmula dada no enunciado\n",
    "        x1 = x - passo * grad_x\n",
    "        y1 = y - passo * grad_y\n",
    "\n",
    "        # SE a o valor da função no ponto atual menos o ponto anterior for menor que a precisão definida, encontramos o nosso ponto de mínimo\n",
    "        if abs(f(x1, y1) - f(x, y)) < precisao or contador > 200:\n",
    "            break\n",
    "\n",
    "        # SENÃO, atualizamos os valores de x e y para os valores calculados acima\n",
    "        x = x1\n",
    "        y = y1\n",
    "        contador += 1\n",
    "\n",
    "        # Analisamos o valor da função no ponto atual e no ponto de mínimo anterior e atualizamos o ponto de mínimo caso necessário\n",
    "        if f(x1, y1) < f(menorX[0], menorY[0]):\n",
    "            menorX[0] = x1\n",
    "            menorY[0] = y1\n",
    "    \n",
    "    print(f\"Valor da função no ponto de mínimo com passo {passo} :\", f(menorX[0], menorY[0]))\n",
    "\n",
    "    # Retornamos o ponto de mínimo\n",
    "    return menorX[0], menorY[0]\n",
    "\n",
    "\n",
    "# COLOQUE O PASSO DESEJADO NA ENTRADA DA FUNÇÃO\n",
    "ponto_minimo_03 = ponto_minimo(0.3, 0, 0, 1e-5)\n",
    "print(\"Ponto de mínimo com passo 0.3:\", ponto_minimo_03)\n",
    "ponto_minimo_05 = ponto_minimo(0.5, 0, 0, 1e-5)\n",
    "print(\"Ponto de mínimo com passo 0.5:\", ponto_minimo_05)\n"
   ]
  },
  {
   "attachments": {},
   "cell_type": "markdown",
   "metadata": {},
   "source": [
    "2ª Etapa (20%): Utilize o seu código para determinar os pontos de mínimo da função g, cuja lei g(x,y) será atribuída a seu grupo. A função g possui dois pontos de mínimo. <p>\n",
    "No relatório, deverá aparecer: <p>\n",
    "    • Os dois pontos de mínimo obtidos com seu código; <p>\n",
    "    • O que teve que ser modificado no programa para obter o segundo ponto de mínimo; <p>\n",
    "    • O comportamento do processo de convergência para diferentes valores do passo. <p>\n"
   ]
  },
  {
   "cell_type": "code",
   "execution_count": 2,
   "metadata": {},
   "outputs": [
    {
     "name": "stdout",
     "output_type": "stream",
     "text": [
      "Primeiro ponto mínimo: (1.60476, -1.83533) e o numero de iteções pra chegar no mínimo foi de 84\n",
      "Segundo ponto mínimo: (1.60477, 1.83534) e o numero de iteções pra chegar no mínimo foi de 74\n",
      "Primeiro ponto mínimo para alpha = 0.15: (1.60477, 1.83534) e o numero de iteções pra chegar no mínimo foi de 48\n",
      "Primeiro ponto mínimo para alpha = 0.2: (1.60477, 1.83534) e o numero de iteções pra chegar no mínimo foi de 34\n",
      "Primeiro ponto mínimo para alpha = 0.3: (1.60477, 1.83533) e o numero de iteções pra chegar no mínimo foi de 21\n",
      "Primeiro ponto mínimo para alpha = 0.5: (1.60477, 1.83533) e o numero de iteções pra chegar no mínimo foi de 22\n",
      "Segundo ponto mínimo para alpha = 0.15: (1.60476, -1.83533) e o numero de iteções pra chegar no mínimo foi de 54\n",
      "Segundo ponto mínimo para alpha = 0.2: (1.60476, -1.83533) e o numero de iteções pra chegar no mínimo foi de 38\n",
      "Segundo ponto mínimo para alpha = 0.3: (1.60476, -1.83533) e o numero de iteções pra chegar no mínimo foi de 22\n",
      "Segundo ponto mínimo para alpha = 0.5: (1.60477, -1.83533) e o numero de iteções pra chegar no mínimo foi de 23\n"
     ]
    }
   ],
   "source": [
    "import numpy as np\n",
    "import math\n",
    "def g(x,y):\n",
    "    g = math.sqrt(x**2+y**2+2)+2*(x**2)*math.exp(-y**2)+(x-2)**2\n",
    "    return g\n",
    "def gradiente_de_g(x, y):\n",
    "    df_dx = (4*x*math.exp(-y**2) + x*((x**2+y**2+2)**(-0.5)) + 2*(x-2))\n",
    "    df_dy = (-4*(x**2)*y*math.exp(-y**2) + y*((x**2 + y**2 + 2)**(-0.5)))\n",
    "    return np.array([df_dx, df_dy])\n",
    "\n",
    "def grad_descend(x0, y0, alpha):\n",
    "    x, y = x0, y0\n",
    "    #conta o numero de iterações para chegar no mínimo\n",
    "    cont = 0\n",
    "    while True:\n",
    "        gradiente = gradiente_de_g(x, y)\n",
    "        if np.linalg.norm(gradiente) <= 1e-5:\n",
    "            break\n",
    "        x -= alpha*gradiente[0]\n",
    "        y -= alpha*gradiente[1]\n",
    "        cont += 1\n",
    "    return (x, y),cont\n",
    "\n",
    "# primeiro ponto mínimo de g\n",
    "x1 = -2\n",
    "y1 = -2\n",
    "\n",
    "ponto1 , cont1 = grad_descend(x1, y1,0.1)\n",
    "\n",
    "print(\"Primeiro ponto mínimo: ({:.5f}, {:.5f}) e o numero de iterações pra chegar no mínimo foi de {}\".format(ponto1[0],ponto1[1],cont1))\n",
    "\n",
    "# Procurando o segundo ponto mínimo da função g\n",
    "x2 = 2\n",
    "y2 = 2\n",
    "\n",
    "ponto2 , cont2 = grad_descend(x2, y2,0.1)\n",
    "\n",
    "print(\"Segundo ponto mínimo: ({:.5f}, {:.5f}) e o numero de iterações pra chegar no mínimo foi de {}\".format(ponto2[0],ponto2[1],cont2))\n",
    "\n",
    "# para diferentes passos: \n",
    "passo_values = [0.15, 0.2, 0.3, 0.5]\n",
    "for i in range(len(passo_values)):\n",
    "    x1, y1 = 2, 2\n",
    "    ponto1 , cont1 = grad_descend(x1, y1,passo_values[i])\n",
    "\n",
    "    print(\"Primeiro ponto mínimo para alpha = {}: ({:.5f}, {:.5f}) e o numero de iterações pra chegar no mínimo foi de {}\".format(passo_values[i],ponto1[0],ponto1[1],cont1))\n",
    "\n",
    "\n",
    "for i in range(len(passo_values)):\n",
    "    x2, y2 = -2, -2\n",
    "    ponto2 , cont2 = grad_descend(x2, y2,passo_values[i])\n",
    "\n",
    "    print(\"Segundo ponto mínimo para alpha = {}: ({:.5f}, {:.5f}) e o numero de iterações pra chegar no mínimo foi de {}\".format(passo_values[i],ponto2[0],ponto2[1],cont2))\n",
    "\n"
   ]
  },
  {
   "attachments": {},
   "cell_type": "markdown",
   "metadata": {},
   "source": [
    "3ª Etapa (20%): Utilize o seu código para determinar os dois pontos de máximo da função ℎ, cuja lei h(x,y) será atribuída a seu grupo. No relatório, indique os dois pontos de máximo obtidos com seu código. "
   ]
  },
  {
   "cell_type": "code",
   "execution_count": 3,
   "metadata": {},
   "outputs": [
    {
     "name": "stdout",
     "output_type": "stream",
     "text": [
      "Primeiro ponto máximo: (0.00000, 0.00000) e o numero de iteções pra chegar no mínimo foi de 27\n",
      "Segundo ponto máximo: (1.87159, 2.88983) e o numero de iteções pra chegar no mínimo foi de 18\n",
      "Primeiro ponto máximo para alpha = 0.15: (1.87159, 2.88983) e o numero de iteções pra chegar no mínimo foi de 9\n",
      "Primeiro ponto máximo para alpha = 0.2: (1.87159, 2.88983) e o numero de iteções pra chegar no mínimo foi de 9\n",
      "Primeiro ponto máximo para alpha = 0.3: (1.87159, 2.88983) e o numero de iteções pra chegar no mínimo foi de 65\n"
     ]
    }
   ],
   "source": [
    "import numpy as np\n",
    "import math\n",
    "\n",
    "def h(x,y):\n",
    "    h = 4*math.exp(-x**2-y**2 )+3*math.exp(-x**2-y**2+4*x+6*y-13)-((x**2)/5)-((y**2)/9) + 2\n",
    "    return h\n",
    "def gradiente_de_h(x, y):\n",
    "    df_dx = (-6*(x-2)*(math.exp(-x**2 + 4*x - y**2 + 6*y - 13)) - (8*x)*(math.exp(-x**2 - y**2)) - ((2*x)/5))\n",
    "    df_dy = (-6*(y-3)*(math.exp(-x**2 + 4*x - y**2 + 6*y - 13)) - (8*y)*(math.exp(-x**2 - y**2)) - ((2*y)/9))\n",
    "    return np.array([df_dx, df_dy])\n",
    "\n",
    "def grad_descend(x0, y0, alpha):\n",
    "    x, y = x0, y0\n",
    "    #conta o numero de iterações para chegar no mínimo\n",
    "    cont = 0\n",
    "    while True:\n",
    "        gradiente = gradiente_de_h(x, y)\n",
    "        if np.linalg.norm(gradiente) <= 1e-5:\n",
    "            break\n",
    "        x += alpha*gradiente[0]\n",
    "        y += alpha*gradiente[1]\n",
    "        cont += 1\n",
    "    return (x, y),cont\n",
    "\n",
    "# primeiro ponto mínimo de f\n",
    "x1 = -2\n",
    "y1 = -2\n",
    "\n",
    "ponto1 , cont1 = grad_descend(x1, y1,0.1)\n",
    "\n",
    "print(\"Primeiro ponto máximo: ({:.5f}, {:.5f}) e o numero de iteções pra chegar no mínimo foi de {}\".format(ponto1[0],ponto1[1],cont1))\n",
    "\n",
    "# Procurando o segundo ponto mínimo da função f\n",
    "x2 = 2\n",
    "y2 = 2\n",
    "\n",
    "ponto2 , cont2 = grad_descend(x2, y2,0.1)\n",
    "\n",
    "print(\"Segundo ponto máximo: ({:.5f}, {:.5f}) e o numero de iteções pra chegar no mínimo foi de {}\".format(ponto2[0],ponto2[1],cont2))\n",
    "\n",
    "# para diferentes passos: \n",
    "passo_values = [0.15, 0.2, 0.3, 0.5]\n",
    "for i in range(len(passo_values)):\n",
    "    x1, y1 = 2, 2\n",
    "    ponto1 , cont1 = grad_descend(x1, y1,passo_values[i])\n",
    "\n",
    "    print(\"Primeiro ponto máximo para alpha = {}: ({:.5f}, {:.5f}) e o numero de iteções pra chegar no mínimo foi de {}\".format(passo_values[i],ponto1[0],ponto1[1],cont1))\n",
    "\n",
    "\n",
    "for i in range(len(passo_values)):\n",
    "    x2, y2 = -2, -2\n",
    "    ponto2 , cont2 = grad_descend(x2, y2,passo_values[i])\n",
    "\n",
    "    print(\"Segundo ponto máximo para alpha = {}: ({:.5f}, {:.5f}) e o numero de iteções pra chegar no mínimo foi de {}\".format(passo_values[i],ponto2[0],ponto2[1],cont2))\n",
    "\n",
    "\n"
   ]
  },
  {
   "attachments": {},
   "cell_type": "markdown",
   "metadata": {},
   "source": [
    "4ª Etapa (25%): Faça uma pesquisa sobre a utilização de passo variável e implemente o método no seu código para calcular o ponto de mínimo da função f. Escreva um breve relato comparando o número de iterações necessárias até a convergência nos dois casos."
   ]
  },
  {
   "cell_type": "code",
   "execution_count": null,
   "metadata": {},
   "outputs": [],
   "source": []
  }
 ],
 "metadata": {
  "kernelspec": {
   "display_name": "base",
   "language": "python",
   "name": "python3"
  },
  "language_info": {
   "codemirror_mode": {
    "name": "ipython",
    "version": 3
   },
   "file_extension": ".py",
   "mimetype": "text/x-python",
   "name": "python",
   "nbconvert_exporter": "python",
   "pygments_lexer": "ipython3",
   "version": "3.8.8"
  },
  "orig_nbformat": 4
 },
 "nbformat": 4,
 "nbformat_minor": 2
}
